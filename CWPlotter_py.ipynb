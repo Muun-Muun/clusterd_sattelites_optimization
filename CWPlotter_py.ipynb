{
  "nbformat": 4,
  "nbformat_minor": 0,
  "metadata": {
    "colab": {
      "provenance": [],
      "authorship_tag": "ABX9TyP5ybYP36K/gQkUpHyWwLKq",
      "include_colab_link": true
    },
    "kernelspec": {
      "name": "python3",
      "display_name": "Python 3"
    },
    "language_info": {
      "name": "python"
    }
  },
  "cells": [
    {
      "cell_type": "markdown",
      "metadata": {
        "id": "view-in-github",
        "colab_type": "text"
      },
      "source": [
        "<a href=\"https://colab.research.google.com/github/Muun-Muun/clusterd_sattelites_optimization/blob/main/CWPlotter_py.ipynb\" target=\"_parent\"><img src=\"https://colab.research.google.com/assets/colab-badge.svg\" alt=\"Open In Colab\"/></a>"
      ]
    },
    {
      "cell_type": "code",
      "execution_count": null,
      "metadata": {
        "id": "jM45_ibZmL4o"
      },
      "outputs": [],
      "source": [
        "import matplotlib.pyplot as plt\n",
        "from matplotlib.patches import Ellipse\n",
        "from matplotlib.colors import LogNorm\n",
        "from matplotlib.lines import Line2D\n",
        "from numpy.linalg import inv, eigh, norm\n",
        "import numpy as np\n",
        "\n",
        "\n",
        "class CWPlotter:\n",
        "    def __init__(self):\n",
        "        pass\n",
        "\n",
        "    def draw_pc_contour(self, r_rel, C_rel, ax, range=(10, 10), HBR=1.0, density=10, alpha=0.5):\n",
        "        C_inv = inv(C_rel)\n",
        "        eigvals, eigvecs = eigh(C_rel)\n",
        "        angle = np.degrees(np.arctan2(*eigvecs[:, 0][::-1]))\n",
        "        width, height = 2 * np.sqrt(eigvals)\n",
        "        sigma_x, sigma_y = np.sqrt(C_rel[0, 0]), np.sqrt(C_rel[1, 1])\n",
        "\n",
        "        x_vals = np.linspace(-range[0], range[0], 400)\n",
        "        z_vals = np.linspace(-range[1], range[1], 400)\n",
        "        X, Z = np.meshgrid(x_vals, z_vals)\n",
        "\n",
        "        d2_grid = np.einsum('...i,ij,...j->...', np.dstack((X, Z)), C_inv, np.dstack((X, Z)))\n",
        "        pre_factor = HBR ** 2 / (2 * sigma_x * sigma_y)\n",
        "        Pc = pre_factor * np.exp(-0.5 * d2_grid)\n",
        "\n",
        "        levels = np.logspace(-10, -0, num=density)\n",
        "        contour = ax.contour(X, Z, Pc, levels=levels, cmap='rainbow', norm=LogNorm(), alpha=alpha)\n",
        "        ax.clabel(contour, inline=True, fmt=lambda v: f\"{v:.0e}\", fontsize=8)\n",
        "\n",
        "        ellipse = Ellipse((0, 0), width=width, height=height, angle=angle,\n",
        "                          edgecolor='blue', linestyle='--', lw=1.5,\n",
        "                          facecolor='none', label='Covariance Ellipse (1σ)')\n",
        "        ax.add_patch(ellipse)\n",
        "\n",
        "    def plot_covariance_ellipse(self, cov, ax, n_std=1.0, edgecolor='blue', **kwargs):\n",
        "        eigvals, eigvecs = np.linalg.eigh(cov)\n",
        "        order = eigvals.argsort()[::-1]\n",
        "        eigvals, eigvecs = eigvals[order], eigvecs[:, order]\n",
        "        width, height = 2 * n_std * np.sqrt(eigvals)\n",
        "        angle = np.degrees(np.arctan2(*eigvecs[:, 0][::-1]))\n",
        "        ellipse = Ellipse(xy=(0, 0), width=width, height=height, angle=angle,\n",
        "                          edgecolor=edgecolor, facecolor='none', **kwargs)\n",
        "        ax.add_patch(ellipse)\n",
        "\n",
        "    def plot_dv_arrow(self, ax, position, delta_v, scale=1.0, color='black', label=None):\n",
        "        x0, y0 = position[0], position[1]\n",
        "        dx, dy = delta_v[0] * scale, delta_v[1] * scale\n",
        "        ax.quiver(x0, y0, dx, dy, angles='xy', scale_units='xy', scale=1,\n",
        "                  color=color, width=0.005)\n",
        "\n",
        "        if label:\n",
        "            legend_handle = Line2D([0], [0], color=color, lw=2, marker='>',\n",
        "                                   markersize=8, label=label)\n",
        "            return legend_handle\n",
        "        else:\n",
        "            return None\n"
      ]
    }
  ]
}