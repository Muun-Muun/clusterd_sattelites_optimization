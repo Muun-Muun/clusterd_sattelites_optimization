{
  "nbformat": 4,
  "nbformat_minor": 0,
  "metadata": {
    "colab": {
      "provenance": [],
      "authorship_tag": "ABX9TyOK/kH7DVDzCXKejs1z531Y",
      "include_colab_link": true
    },
    "kernelspec": {
      "name": "python3",
      "display_name": "Python 3"
    },
    "language_info": {
      "name": "python"
    }
  },
  "cells": [
    {
      "cell_type": "markdown",
      "metadata": {
        "id": "view-in-github",
        "colab_type": "text"
      },
      "source": [
        "<a href=\"https://colab.research.google.com/github/Muun-Muun/clusterd_sattelites_optimization/blob/main/CWCalculator.ipynb\" target=\"_parent\"><img src=\"https://colab.research.google.com/assets/colab-badge.svg\" alt=\"Open In Colab\"/></a>"
      ]
    },
    {
      "cell_type": "code",
      "execution_count": null,
      "metadata": {
        "id": "B2ZRDQ8Cmsbt"
      },
      "outputs": [],
      "source": [
        "# 계산 클래스: CW 동역학 및 최적화 관련\n",
        "import numpy as np\n",
        "from scipy.linalg import expm, eig\n",
        "from numpy.linalg import norm\n",
        "\n",
        "\n",
        "class CWCalculator:\n",
        "    def __init__(self, n):\n",
        "        self.n = n\n",
        "        self.A = np.array([\n",
        "            [0, 0, 0, 1, 0, 0],\n",
        "            [0, 0, 0, 0, 1, 0],\n",
        "            [0, 0, 0, 0, 0, 1],\n",
        "            [3 * n ** 2, 0, 0, 0, 2 * n, 0],\n",
        "            [0, 0, 0, -2 * n, 0, 0],\n",
        "            [0, 0, -n ** 2, 0, 0, 0]\n",
        "        ])\n",
        "        self.B = np.vstack([np.zeros((3, 3)), np.eye(3)])\n",
        "\n",
        "    def compute_gamma(self, dt, steps=100):\n",
        "        tau = np.linspace(0, dt, steps)\n",
        "        integrand_sum = np.zeros((self.A.shape[0], self.B.shape[1]))\n",
        "        for t in dt - tau:\n",
        "            integrand_sum += expm(self.A * t) @ self.B\n",
        "        return (dt / steps) * integrand_sum\n",
        "\n",
        "    def cw_closed_form(self, t, x0):\n",
        "        x0_, y0_, z0_, vx0_, vy0_, vz0_ = x0\n",
        "        nt = self.n * t\n",
        "        x = (4 - 3 * np.cos(nt)) * x0_ + np.sin(nt) / self.n * vx0_ + 2 * (1 - np.cos(nt)) / self.n * vy0_\n",
        "        y = 6 * (np.sin(nt) - nt) * x0_ + y0_ - 2 * (1 - np.cos(nt)) / self.n * vx0_ + (4 * np.sin(nt) - 3 * nt) / self.n * vy0_\n",
        "        z = z0_ * np.cos(nt) + vz0_ / self.n * np.sin(nt)\n",
        "        return np.vstack((x, y, z)).T\n",
        "\n",
        "    def propagate(self, x0, t_span=None, control=False, t_impulses=None, delta_vs=None, steps_per_segment=100):\n",
        "        xk = x0.copy()\n",
        "        trajectory = []\n",
        "        times = []\n",
        "\n",
        "        if not control:\n",
        "            assert t_span is not None, \"t_span must be provided if control=False\"\n",
        "            t = np.linspace(0, t_span, steps_per_segment)\n",
        "            traj = self.cw_closed_form(t, xk)\n",
        "            return traj, t\n",
        "        else:\n",
        "            assert t_impulses is not None and delta_vs is not None\n",
        "            t_start = 0.0\n",
        "            for i in range(len(t_impulses)):\n",
        "                dt = t_impulses[i]\n",
        "                t_segment = np.linspace(0, dt, steps_per_segment)\n",
        "                traj_segment = self.cw_closed_form(t_segment, xk)\n",
        "                trajectory.append(traj_segment)\n",
        "                times.append(t_segment + t_start)\n",
        "                t_start += dt\n",
        "                Phi_k = expm(self.A * dt)\n",
        "                Gamma_k = self.compute_gamma(dt)\n",
        "                xk = Phi_k @ xk + Gamma_k @ delta_vs[i]\n",
        "            return np.vstack(trajectory), np.hstack(times)\n",
        "\n",
        "    def get_max_impact_delta_v(self, A, delta_v_max):\n",
        "        ATA = A.T @ A\n",
        "        eigvals, eigvecs = eig(ATA)\n",
        "        v_opt = eigvecs[:, np.argmax(eigvals)]\n",
        "        return v_opt / norm(v_opt) * delta_v_max\n",
        "\n",
        "    def get_min_pc_delta_v(self, cov, delta_v_max):\n",
        "        eigvals, eigvecs = eig(cov)\n",
        "        v_dir = eigvecs[:, np.argmin(eigvals)]\n",
        "        v_dir = v_dir / norm(v_dir) * delta_v_max\n",
        "        return np.array([v_dir[0], v_dir[1], 0.0])\n"
      ]
    }
  ]
}